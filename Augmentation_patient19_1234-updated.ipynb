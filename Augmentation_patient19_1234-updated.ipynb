{
 "cells": [
  {
   "cell_type": "markdown",
   "metadata": {
    "collapsed": true
   },
   "source": [
    "#### Aim: Take patient19's image data into augmentation pipline(rotate, flip, shift)\n",
    "#### Input: Ground truth and raw data \n",
    "#### Output: Consistent rotate, flip, and shift for each image set , each image set contains one raw image and one mask image, save them into \"Aug_mask1234\" and \"Aug_raw\", respectively"
   ]
  },
  {
   "cell_type": "code",
   "execution_count": 1,
   "metadata": {
    "collapsed": true
   },
   "outputs": [],
   "source": [
    "def rotate(mat):\n",
    "\n",
    "    y =np.array([1],dtype=np.float32)\n",
    "    X = mat[np.newaxis,:]\n",
    "\n",
    "\n",
    "    datagen = ImageDataGenerator(featurewise_center=False, featurewise_std_normalization=False,\n",
    "                            rotation_range=90,dim_ordering='tf')\n",
    "# fit parameters from data\n",
    "    datagen.fit(X)\n",
    "\n",
    "# configure batch size\n",
    "    datagen.flow(X, y, batch_size=32)\n",
    "\n",
    "# retrieve one batch of images\n",
    "    X_batch, y_batch = datagen.next()\n",
    "\n",
    "    XX=np.array(X_batch[0],'uint8')\n",
    "    return(XX)\n",
    "    # plt.imshow(XX)\n",
    "    # Save pictures \n",
    "    "
   ]
  },
  {
   "cell_type": "code",
   "execution_count": 2,
   "metadata": {
    "collapsed": true
   },
   "outputs": [],
   "source": [
    "def shift(mat,shift=0.2):\n",
    "\n",
    "    y =np.array([1],dtype=np.float32)\n",
    "    X = mat[np.newaxis,:]\n",
    "\n",
    "\n",
    "    datagen = ImageDataGenerator(featurewise_center=False, featurewise_std_normalization=False,\n",
    "                            width_shift_range=shift, height_shift_range=shift)\n",
    "# fit parameters from data\n",
    "    datagen.fit(X)\n",
    "\n",
    "# configure batch size\n",
    "    datagen.flow(X, y, batch_size=32)\n",
    "\n",
    "# retrieve one batch of images\n",
    "    X_batch, y_batch = datagen.next()\n",
    "\n",
    "    XX=np.array(X_batch[0],'uint8')\n",
    "    return(XX)\n",
    "    # plt.imshow(XX)\n",
    "    # Save pictures \n",
    "    \n"
   ]
  },
  {
   "cell_type": "code",
   "execution_count": 3,
   "metadata": {
    "collapsed": true
   },
   "outputs": [],
   "source": [
    "def shift_remedy(XX,mat):\n",
    "\n",
    "    for k in range(7):\n",
    "        globals()['mat_s%s' % (k+1)] = np.zeros([1044,1408],'uint8')\n",
    "        globals()['mat_s%s' % (k+1)] = XX[...,k]\n",
    "    \n",
    "    \n",
    "    \n",
    "    while sum(sum(mat_s1- mat_s2)) ==0 or sum(sum(mat_s6-mat_s7))==0:\n",
    "        XX=shift(mat,shift=0.2)\n",
    "        for k in range(7):\n",
    "            globals()['mat_s%s' % (k+1)] = np.zeros([1044,1408],'uint8')\n",
    "            globals()['mat_s%s' % (k+1)] = XX[...,k]\n",
    "       \n",
    "    return(XX)"
   ]
  },
  {
   "cell_type": "code",
   "execution_count": 4,
   "metadata": {
    "collapsed": true
   },
   "outputs": [],
   "source": [
    "def flip(mat):\n",
    "    y =np.array([1],dtype=np.float32)\n",
    "    X = mat[np.newaxis,:]\n",
    "\n",
    "\n",
    "    datagen = ImageDataGenerator(featurewise_center=False, featurewise_std_normalization=False,\n",
    "                            horizontal_flip=True, vertical_flip=True,dim_ordering='tf')\n",
    "\n",
    "# fit parameters from data\n",
    "    datagen.fit(X)\n",
    "\n",
    "\n",
    "# configure batch size\n",
    "    datagen.flow(X, y, batch_size=32)\n",
    "\n",
    "# retrieve one batch of images\n",
    "    X_batch, y_batch = datagen.next()\n",
    "    XX=np.array(X_batch[0],'uint8')\n",
    "    return(XX)"
   ]
  },
  {
   "cell_type": "code",
   "execution_count": 5,
   "metadata": {
    "collapsed": true
   },
   "outputs": [],
   "source": [
    "def combine(XX):\n",
    "\n",
    "\n",
    "\n",
    "    for k in range(7):\n",
    "        globals()['mat_s%s' % (k+1)] = np.zeros([1044,1408],'uint8')\n",
    "        globals()['mat_s%s' % (k+1)] = XX[...,k]\n",
    "    \n",
    "    \n",
    "    raw = np.zeros([1044,1408,3],'uint8')\n",
    "    raw[...,0] = mat_s1\n",
    "    raw[...,1] = mat_s2\n",
    "    raw[...,2] = mat_s3\n",
    "\n",
    "    #plt.subplot(330+ 1)\n",
    "    #plt.imshow(raw)\n",
    "\n",
    "    mask = np.zeros([1044,1408,4],'uint8')\n",
    "    mask[...,0] = mat_s4\n",
    "    mask[...,1] = mat_s5\n",
    "    mask[...,2] = mat_s6\n",
    "    mask[...,3] = mat_s7\n",
    "    #plt.subplot(330+ 2)\n",
    "    #plt.tight_layout()\n",
    "    #plt.imshow(mask)\n",
    "    return(mask,raw)"
   ]
  },
  {
   "cell_type": "code",
   "execution_count": 6,
   "metadata": {
    "collapsed": true
   },
   "outputs": [],
   "source": [
    "from keras.datasets import mnist\n",
    "from keras.preprocessing.image import ImageDataGenerator\n",
    "import matplotlib.pyplot as plt\n",
    "%matplotlib inline\n",
    "import numpy as np\n",
    "from PIL import Image\n",
    "import scipy.misc\n",
    "import os  \n",
    "from operator import itemgetter\n",
    "from os import listdir\n",
    "from os.path import isfile, join\n"
   ]
  },
  {
   "cell_type": "code",
   "execution_count": 7,
   "metadata": {
    "collapsed": true
   },
   "outputs": [],
   "source": [
    "\n",
    "os.chdir('C:/Users/SpectralMD/Desktop/Image_Augmentation-1/amputation_labels/labels/tif_files')\n",
    "os.path.abspath('.')\n",
    "rootDir= '.'\n",
    "tif_dire = 'C:/Users/SpectralMD/Desktop/Image_Augmentation-1/amputation_labels/labels/tif_files/'\n",
    "#Get filename\n",
    "for dirName, subdirList, fileList in os.walk(rootDir, topdown=False):\n",
    "    tiff_fname=[]\n",
    "    for fname in fileList:\n",
    "        \n",
    "        tiff_fname.append(fname)\n",
    "        \n",
    "\n",
    "#$mat_tiff = np.array(Image.open(tiff_fname[0]),dtype=np.float32)"
   ]
  },
  {
   "cell_type": "code",
   "execution_count": 10,
   "metadata": {
    "collapsed": true
   },
   "outputs": [],
   "source": [
    "def aug(dire):\n",
    "    os.chdir(dire)\n",
    "#dire_pat8 = 'E:/imagedata/Patient8/Diabetic_Ulcers/Study16/Ant.L.Foot'\n",
    "\n",
    "    my_dirs = [d for d in os.listdir(dire) if os.path.isdir(os.path.join(dire, d))]\n",
    "#my_dirs\n",
    "\n",
    "    ll =  dire.split(\"/\")\n",
    "\n",
    "    location = ll[5].split(\".\")[0][0]+ll[5].split(\".\")[1]+ll[5].split(\".\")[2].lower()\n",
    "    filename = ll[2][0].lower()+ll[2][7:len(ll[2])]+'_'+location+'_coll1.tif'\n",
    "    for l in range(len(my_dirs)):\n",
    "    \n",
    "    #mask\n",
    "        mat_tiff = np.array(Image.open(tif_dire+tiff_fname[l+tiff_fname.index(filename)]),\\\n",
    "                            dtype=np.float32)\n",
    "    #dire = 'E:/imagedata/Patient8/Diabetic_Ulcers/Study16/Ant.L.Foot/'\n",
    "        (name, ex)=tiff_fname[l+tiff_fname.index(filename)].split(\".\")\n",
    "        for i in range(mat_tiff.shape[2]):\n",
    "            globals()['tif%s' % (i+1)]= np.empty(shape=[mat_tiff.shape[0], mat_tiff.shape[1]])\n",
    "            globals()['tif%s' % (i+1)] = mat_tiff[...,i]\n",
    "        \n",
    "    #raw data\n",
    "        raw_dire = dire +my_dirs[l]\n",
    "        onlyfiles = [f for f in listdir(raw_dire) if isfile(join(raw_dire, f))]\n",
    "        rgb = itemgetter(0,1, 5)(onlyfiles)\n",
    "    \n",
    "        for i in range(len(rgb)):\n",
    "            globals()['mat%s' % (i+1)] = np.array(Image.open(raw_dire+\"/\"+rgb[i]),dtype=np.float32)\n",
    "        mat = np.zeros((1044, 1408, 7),'uint8')\n",
    "    \n",
    "        mat[...,0] = mat3/mat3.max()*256\n",
    "        mat[...,1] = mat2/mat2.max()*256\n",
    "        mat[...,2] = mat1/mat1.max()*256\n",
    "        mat[...,3] = tif1\n",
    "        mat[...,4] = tif2\n",
    "        mat[...,5] = tif3\n",
    "        mat[...,6] = tif4\n",
    "    \n",
    "    \n",
    "    # Augmentation\n",
    "        XX_r= rotate(mat)\n",
    "        mask_r,raw_r = combine(XX_r)\n",
    "    \n",
    "        XX= shift(mat)\n",
    "        XX_s = shift_remedy(XX,mat)\n",
    "        mask_s,raw_s = combine(XX_s)\n",
    "    \n",
    "        XX_f= flip(mat)\n",
    "        mask_f,raw_f = combine(XX_f)\n",
    "    \n",
    "        mask1_r = np.zeros([1044,1408],'uint8')\n",
    "        mask1_s= np.zeros([1044,1408],'uint8')\n",
    "        mask1_f = np.zeros([1044,1408],'uint8')\n",
    "        \n",
    "    # label different color into 0 1 2 3, so that  convert four channels into one \n",
    "    \n",
    "        for i in range(1044):\n",
    "            for j in range(1408):\n",
    "                if max(mask_r[i][j][0:3])==0.:\n",
    "                    mask1_r[i][j]=0\n",
    "                else:\n",
    "                    mask1_r[i][j]=mask_r[i][j][0:3].argmax()+1\n",
    "\n",
    "    \n",
    "        for i in range(1044):\n",
    "            for j in range(1408):\n",
    "                if max(mask_s[i][j][0:3])==0.:\n",
    "                    mask1_s[i][j]=0\n",
    "                else:\n",
    "                    mask1_s[i][j]=mask_s[i][j][0:3].argmax()+1\n",
    "                \n",
    "                \n",
    "        for i in range(1044):\n",
    "            for j in range(1408):\n",
    "                if max(mask_f[i][j][0:3])==0.:\n",
    "                    mask1_f[i][j]=0\n",
    "                else:\n",
    "                    mask1_f[i][j]=mask_f[i][j][0:3].argmax()+1\n",
    "    \n",
    "    \n",
    "    \n",
    "    \n",
    "    # save\n",
    "        os.chdir('C:/Users/SpectralMD/Desktop/')\n",
    "        if not os.path.exists('Aug_mask1234'):\n",
    "             os.makedirs('Aug_mask1234')\n",
    "        if not os.path.exists('Aug_raw'):\n",
    "             os.makedirs('Aug_raw')\n",
    "        os.chdir('C:/Users/SpectralMD/Desktop/Aug_mask1234')\n",
    "        scipy.misc.imsave(  ll[2]+\"_\" + ll[5]+'_'+my_dirs[l] + '_rotate.png', mask1_r)\n",
    "        scipy.misc.imsave(  ll[2]+\"_\" + ll[5]+'_'+my_dirs[l] + '_shift.png', mask1_s)\n",
    "        scipy.misc.imsave(  ll[2]+\"_\" + ll[5]+'_'+my_dirs[l] + '_flip.png', mask1_f)\n",
    "\n",
    "        os.chdir('C:/Users/SpectralMD/Desktop/Aug_raw')\n",
    "        scipy.misc.imsave( ll[2]+\"_\" + ll[5]+'_'+my_dirs[l]+ '_rotate.jpg', raw_r)\n",
    "        scipy.misc.imsave( ll[2]+\"_\" + ll[5]+'_'+my_dirs[l]+ '_shift.jpg', raw_s)\n",
    "        scipy.misc.imsave( ll[2]+\"_\" + ll[5]+'_'+my_dirs[l]+ '_flip.jpg', raw_f)"
   ]
  },
  {
   "cell_type": "code",
   "execution_count": 11,
   "metadata": {
    "collapsed": true
   },
   "outputs": [],
   "source": [
    "## Implement\n",
    "# Different body locations\n",
    "dire_all = [ 'E:/imagedata/Patient19/Diabetic_Ulcers/Study39/Ant.L.Foot/',]\n",
    "\n",
    "\n",
    "for i in range(len(dire_all)):\n",
    "    dire = dire_all[i]\n",
    "    aug(dire)"
   ]
  },
  {
   "cell_type": "code",
   "execution_count": null,
   "metadata": {
    "collapsed": true
   },
   "outputs": [],
   "source": []
  }
 ],
 "metadata": {
  "kernelspec": {
   "display_name": "Python 2",
   "language": "python",
   "name": "python2"
  },
  "language_info": {
   "codemirror_mode": {
    "name": "ipython",
    "version": 2
   },
   "file_extension": ".py",
   "mimetype": "text/x-python",
   "name": "python",
   "nbconvert_exporter": "python",
   "pygments_lexer": "ipython2",
   "version": "2.7.12"
  }
 },
 "nbformat": 4,
 "nbformat_minor": 0
}
