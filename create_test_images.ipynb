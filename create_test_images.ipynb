{
 "cells": [
  {
   "cell_type": "markdown",
   "metadata": {},
   "source": [
    "#### Create test images to test the model"
   ]
  },
  {
   "cell_type": "code",
   "execution_count": 20,
   "metadata": {
    "collapsed": true
   },
   "outputs": [],
   "source": [
    "from keras.datasets import mnist\n",
    "from keras.preprocessing.image import ImageDataGenerator\n",
    "import matplotlib.pyplot as plt\n",
    "%matplotlib inline\n",
    "import numpy as np\n",
    "from PIL import Image\n",
    "import scipy.misc\n",
    "import os  \n",
    "from operator import itemgetter\n",
    "from os import listdir\n",
    "from os.path import isfile, join\n",
    "from operator import itemgetter\n",
    "from os import listdir\n",
    "from os.path import isfile, join\n",
    "from resizeimage import resizeimage"
   ]
  },
  {
   "cell_type": "code",
   "execution_count": 2,
   "metadata": {
    "collapsed": true
   },
   "outputs": [],
   "source": [
    "dire_all=['E:\\imagedata\\Patient8\\Diabetic_Ulcers\\Study16\\Ant.L.Leg\\ImageColl_1',\\\n",
    "         'E:\\imagedata\\Patient8\\Diabetic_Ulcers\\Study16\\Ant.L.Leg\\ImageColl_2',\\\n",
    "         'E:\\imagedata\\Patient16\\Diabetic_Ulcers\\Study27\\Ant.L.Thigh\\ImageColl_1',\\\n",
    "         'E:\\imagedata\\Patient16\\Diabetic_Ulcers\\Study27\\Ant.L.Thigh\\ImageColl_2',\\\n",
    "         'E:\\imagedata\\Patient16\\Diabetic_Ulcers\\Study27\\Ant.L.Thigh\\ImageColl_3',\\\n",
    "         'E:\\imagedata\\Patient16\\Diabetic_Ulcers\\Study30\\Ant.L.Foot\\ImageColl_1',\\\n",
    "         'E:\\imagedata\\Patient16\\Diabetic_Ulcers\\Study30\\Ant.L.Foot\\ImageColl_2',\\\n",
    "         'E:\\imagedata\\Patient19\\Diabetic_Ulcers\\Study49\\Ant.L.Foot\\ImageColl_1',\\\n",
    "         'E:\\imagedata\\Patient19\\Diabetic_Ulcers\\Study49\\Post.L.Foot\\ImageColl_1']"
   ]
  },
  {
   "cell_type": "code",
   "execution_count": 29,
   "metadata": {
    "collapsed": true
   },
   "outputs": [],
   "source": [
    "os.chdir('C:/Users/SpectralMD/Desktop/')\n",
    "if not os.path.exists('test_img'):\n",
    "    os.makedirs('test_img')"
   ]
  },
  {
   "cell_type": "code",
   "execution_count": 34,
   "metadata": {
    "collapsed": false
   },
   "outputs": [],
   "source": [
    "for j in range(len(dire_all)):\n",
    "    dire = dire_all[j]\n",
    "    os.chdir(dire)\n",
    "#dire_pat8 = 'E:/imagedata/Patient8/Diabetic_Ulcers/Study16/Ant.L.Foot'\n",
    "\n",
    "    #raw data\n",
    "    onlyfiles = [f for f in listdir(dire) if isfile(join(dire, f))]\n",
    "    rgb = itemgetter(0,1, 5)(onlyfiles)\n",
    "    \n",
    "    for i in range(len(rgb)):\n",
    "        globals()['mat%s' % (i+1)] = np.array(Image.open(dire+\"/\"+rgb[i]),dtype=np.float32)\n",
    "    mat = np.zeros((1044, 1408, 3),'uint8')\n",
    "    \n",
    "    mat[...,0] = mat3/mat3.max()*256\n",
    "    mat[...,1] = mat2/mat2.max()*256\n",
    "    mat[...,2] = mat1/mat1.max()*256\n",
    "    \n",
    "    #mat_resize = resizeimage.resize_cover(mat, [500,350,3], validate=False)\n",
    "    \n",
    "    ll=dire.split('\\\\')\n",
    "    \n",
    "    os.chdir('C:/Users/SpectralMD/Desktop/test_img')\n",
    "    scipy.misc.imsave(  ll[2]+\"_\" + ll[4]+'_'+ll[5] +'_'+ ll[6]+'.jpg', mat)"
   ]
  },
  {
   "cell_type": "code",
   "execution_count": 37,
   "metadata": {
    "collapsed": false
   },
   "outputs": [],
   "source": [
    "dire_test = 'C:/Users/SpectralMD/Desktop/test_img'\n",
    "onlyfiles = [f for f in listdir(dire_test) if isfile(join(dire_test, f))]\n",
    "   \n",
    "\n",
    "for i in range(len(onlyfiles)):\n",
    "    img = Image.open(onlyfiles[i])\n",
    "    cover = resizeimage.resize_cover(img, [500, 350], validate=False)\n",
    "    os.chdir('C:/Users/SpectralMD/Desktop/test_img')\n",
    "    scipy.misc.imsave(onlyfiles[i],cover)"
   ]
  }
 ],
 "metadata": {
  "kernelspec": {
   "display_name": "Python 2",
   "language": "python",
   "name": "python2"
  },
  "language_info": {
   "codemirror_mode": {
    "name": "ipython",
    "version": 2
   },
   "file_extension": ".py",
   "mimetype": "text/x-python",
   "name": "python",
   "nbconvert_exporter": "python",
   "pygments_lexer": "ipython2",
   "version": "2.7.12"
  }
 },
 "nbformat": 4,
 "nbformat_minor": 0
}
