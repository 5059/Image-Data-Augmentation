{
 "cells": [
  {
   "cell_type": "markdown",
   "metadata": {},
   "source": [
    "#### This code reads a list of file locations and mask locations, load 8 MSI images+DeepView output+3 channel mask, stack them into one array, augment the array, produce one of each: shifted, rotated, flipped images, and save into .tif. 10 images saved (3 channel mask is merged into 1 channel)."
   ]
  },
  {
   "cell_type": "markdown",
   "metadata": {},
   "source": [
    "#### Load packages"
   ]
  },
  {
   "cell_type": "code",
   "execution_count": 20,
   "metadata": {
    "collapsed": false
   },
   "outputs": [],
   "source": [
    "from keras.datasets import mnist\n",
    "from keras.preprocessing.image import ImageDataGenerator\n",
    "import matplotlib.pyplot as plt\n",
    "%matplotlib inline\n",
    "import numpy as np\n",
    "from PIL import Image\n",
    "import scipy.misc\n",
    "import os  \n",
    "from operator import itemgetter\n",
    "from os import listdir\n",
    "from os.path import isfile, join\n",
    "from skimage import data, color, img_as_float, io"
   ]
  },
  {
   "cell_type": "markdown",
   "metadata": {},
   "source": [
    "#### Load parameters"
   ]
  },
  {
   "cell_type": "code",
   "execution_count": 28,
   "metadata": {
    "collapsed": true
   },
   "outputs": [],
   "source": [
    "shrink_N = 4 # down-sample size\n",
    "batch_size= 1\n",
    "save_loc= 'C:\\Users\\Valued Customer\\Desktop\\Lu\\Github SMD\\Data\\\\amputation_labels\\\\augmented'"
   ]
  },
  {
   "cell_type": "markdown",
   "metadata": {},
   "source": [
    "#### Load file locations"
   ]
  },
  {
   "cell_type": "code",
   "execution_count": 12,
   "metadata": {
    "collapsed": true
   },
   "outputs": [],
   "source": [
    "loc=['E:\\Baylor\\Patient8\\Diabetic_Ulcers\\Study16\\Ant.L.Foot\\ImageColl_2',\n",
    "        'E:\\Baylor\\Patient16\\Diabetic_Ulcers\\Study27\\Ant.L.Foot\\ImageColl_1',\n",
    "        'E:\\Baylor\\Patient16\\Diabetic_Ulcers\\Study27\\Ant.L.Leg\\ImageColl_1',\n",
    "        'E:\\Baylor\\Patient16\\Diabetic_Ulcers\\Study27\\Ant.R.Foot\\ImageColl_2',\n",
    "        'E:\\Baylor\\Patient19\\Diabetic_Ulcers\\Study39\\Ant.L.Foot\\ImageColl_4']"
   ]
  },
  {
   "cell_type": "markdown",
   "metadata": {},
   "source": [
    "#### Load mask"
   ]
  },
  {
   "cell_type": "code",
   "execution_count": 13,
   "metadata": {
    "collapsed": true
   },
   "outputs": [],
   "source": [
    "maskroot='C:\\Users\\Valued Customer\\Desktop\\Lu\\Github SMD\\Data\\\\amputation_labels\\labels\\\\tif_files\\\\'\n",
    "mask=['8_ALfoot_coll2.tif','p16_ALfoot_coll1.tif','p16_ALleg_coll1.tif',\n",
    "         'p16_ARfoot_coll2.tif','p19_ALfoot_coll4.tif']"
   ]
  },
  {
   "cell_type": "markdown",
   "metadata": {},
   "source": [
    "#### Define augmentation sub functions"
   ]
  },
  {
   "cell_type": "code",
   "execution_count": 6,
   "metadata": {
    "collapsed": false
   },
   "outputs": [],
   "source": [
    "def rotate():\n",
    "    datagen = ImageDataGenerator(featurewise_center=False, featurewise_std_normalization=False,\n",
    "                            rotation_range=90,dim_ordering='tf') # maximum rotation is 90 degrees\n",
    "    return(datagen)"
   ]
  },
  {
   "cell_type": "code",
   "execution_count": 7,
   "metadata": {
    "collapsed": true
   },
   "outputs": [],
   "source": [
    "def shift(shift=0.2):\n",
    "    datagen = ImageDataGenerator(featurewise_center=False, featurewise_std_normalization=False,\n",
    "                            width_shift_range=shift, height_shift_range=shift)\n",
    "    return(datagen)"
   ]
  },
  {
   "cell_type": "code",
   "execution_count": 9,
   "metadata": {
    "collapsed": true
   },
   "outputs": [],
   "source": [
    "def flip():\n",
    "    datagen = ImageDataGenerator(featurewise_center=False, featurewise_std_normalization=False,\n",
    "                            horizontal_flip=True, vertical_flip=True,dim_ordering='tf')\n",
    "    return(datagen)"
   ]
  },
  {
   "cell_type": "code",
   "execution_count": 10,
   "metadata": {
    "collapsed": true
   },
   "outputs": [],
   "source": [
    "def aug(datagen, X, y, batch_size):\n",
    "    \n",
    "    # fit parameters from data\n",
    "    datagen.fit(X)\n",
    "\n",
    "    # configure batch size\n",
    "    datagen.flow(X, y, batch_size)\n",
    "\n",
    "    # retrieve one batch of images\n",
    "    X_batch, y_batch = datagen.next()\n",
    "    XX=np.array(X_batch[0],'uint8')\n",
    "    return(XX)"
   ]
  },
  {
   "cell_type": "code",
   "execution_count": 31,
   "metadata": {
    "collapsed": true
   },
   "outputs": [],
   "source": [
    "def pop(XX, save_loc, maskloc, method):\n",
    "    # this function separates raw images and mask, also merge mask from 3 channel to 1 channel, then save into .tif\n",
    "    \n",
    "    raw=XX[:,:,0:9] # first 9 images = 8MSI + DeepView\n",
    "    \n",
    "    M=XX[:,:,10:] # last 3 images are mask\n",
    "    \n",
    "    #### initialize class\n",
    "    classid=3*np.ones((M.shape[0],M.shape[1]))   #### initialize to class 3\n",
    "\n",
    "    #### merge mask into 1 channel\n",
    "    for i in range(M.shape[0]):\n",
    "        for j in range(M.shape[1]):\n",
    "            if sum(M[i,j,:])!=0:\n",
    "                classid[i,j]=np.argmax(M[i,j,:])   \n",
    "                \n",
    "    #### save 9 augmented images and mask\n",
    "    # extract save name\n",
    "    loc=maskloc.split(\".tif\")\n",
    "    maskloc=loc[0]\n",
    "    for i in range(9):\n",
    "        plt.imshow(raw[:,:,i])\n",
    "        plt.savefig(save_loc+\"\\\\\"+ maskloc + \"_\"+ method+ str(i) + \".tif\")\n",
    "        \n",
    "    #### save mask\n",
    "    plt.imshow(classid)\n",
    "    plt.savefig(save_loc+\"\\\\\"+ maskloc + \"mask\" + \".tif\")"
   ]
  },
  {
   "cell_type": "markdown",
   "metadata": {},
   "source": [
    "#### Define load data function"
   ]
  },
  {
   "cell_type": "code",
   "execution_count": 29,
   "metadata": {
    "collapsed": true
   },
   "outputs": [],
   "source": [
    "def loaddata(dataloc,maskloc,shrink_N):\n",
    "    \n",
    "    os.chdir(dataloc)\n",
    "\n",
    "    content_list = []\n",
    "\n",
    "    for content in os.listdir(\".\"): # \".\" means current directory\n",
    "        content_list.append(content)\n",
    "        \n",
    "    #### down-sample  \n",
    "    shrink = (slice(0, None, shrink_N), slice(0, None, shrink_N)) # down sample by N_shrink\n",
    "        \n",
    "    #### load 8 MSI images\n",
    "    F=[img_as_float(data.load(dataloc+\"//\"+ content_list[i])[shrink]) for i in range(8)]\n",
    "    \n",
    "    #### collapse trailing dimensions\n",
    "    F=np.squeeze(F) # dim = 8 * H * W\n",
    "\n",
    "    #### load DeepView output\n",
    "    D=data.load(dataloc+\"//DeepViewOutput.tif\")[shrink]\n",
    "    D=color.rgb2gray(D); # convert DeepView output to 1 channel gray image\n",
    "    D=np.reshape(D,(1,D.shape[0],D.shape[1]))\n",
    "    \n",
    "    #### merge 8 MSI and DeepView into 9 channel images\n",
    "    F=np.append(F,D,axis=0) # dim(F) = 9 * H * W\n",
    "    \n",
    "    #### load mask\n",
    "    M=data.load(maskroot+maskloc)[shrink]\n",
    "    \n",
    "    ### now mask has 4 dimensions, remove the last dimension\n",
    "    M=M[:,:,0:3]\n",
    "    \n",
    "    #### swap axes\n",
    "    F= np.swapaxes(F,0,2)\n",
    "    F= np.swapaxes(F,0,1)\n",
    "    \n",
    "    #### merge mask into F, total 12 channels\n",
    "    F= np.append(F,M,axis=2) \n",
    "    \n",
    "    #### first 9 channel multiply by 256\n",
    "    F[:,:,0:9]=256*F[:,:,0:9]\n",
    "    \n",
    "    return(F)"
   ]
  },
  {
   "cell_type": "markdown",
   "metadata": {},
   "source": [
    "### Main function"
   ]
  },
  {
   "cell_type": "code",
   "execution_count": 32,
   "metadata": {
    "collapsed": false
   },
   "outputs": [
    {
     "data": {
      "image/png": "[encoded data removed]",
      "text/plain": [
       "<matplotlib.figure.Figure at 0xf3a5d30>"
      ]
     },
     "metadata": {},
     "output_type": "display_data"
    }
   ],
   "source": [
    "for dataloc, maskloc in zip(loc, mask):\n",
    "\n",
    "    F= loaddata(dataloc,maskloc,shrink_N)\n",
    "    \n",
    "    #### prepare data for augmentation\n",
    "    y =np.array([1],dtype=np.float32)\n",
    "    X = F[np.newaxis,:]\n",
    "    \n",
    "    #### rotate\n",
    "    datagen= rotate()\n",
    "    XX_r=aug(datagen, X,y, batch_size)\n",
    "    pop(XX_r, save_loc, maskloc, \"rotate\")\n",
    "        \n",
    "    #### shift\n",
    "    datagen= shift()\n",
    "    XX_s=aug(datagen, X,y, batch_size)\n",
    "    pop(XX_s, save_loc, maskloc, \"shift\")\n",
    "    \n",
    "    #### flip\n",
    "    datagen= flip()\n",
    "    XX_f=aug(datagen, X,y, batch_size)\n",
    "    pop(XX_f, save_loc, maskloc, \"flip\")"
   ]
  },
  {
   "cell_type": "code",
   "execution_count": null,
   "metadata": {
    "collapsed": true
   },
   "outputs": [],
   "source": []
  }
 ],
 "metadata": {
  "kernelspec": {
   "display_name": "Python 3",
   "language": "python",
   "name": "python3"
  },
  "language_info": {
   "codemirror_mode": {
    "name": "ipython",
    "version": 3
   },
   "file_extension": ".py",
   "mimetype": "text/x-python",
   "name": "python",
   "nbconvert_exporter": "python",
   "pygments_lexer": "ipython3",
   "version": "3.5.1"
  }
 },
 "nbformat": 4,
 "nbformat_minor": 0
}
