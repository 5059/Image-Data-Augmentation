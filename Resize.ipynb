{
 "cells": [
  {
   "cell_type": "markdown",
   "metadata": {},
   "source": [
    "#### Aim: Resize each image into a smaller shape, say (360,480)"
   ]
  },
  {
   "cell_type": "code",
   "execution_count": 1,
   "metadata": {
    "collapsed": true
   },
   "outputs": [],
   "source": [
    "import os  \n",
    "from operator import itemgetter\n",
    "from os import listdir\n",
    "from os.path import isfile, join\n",
    "from resizeimage import resizeimage\n",
    "from PIL import Image\n",
    "import scipy.misc"
   ]
  },
  {
   "cell_type": "code",
   "execution_count": 3,
   "metadata": {
    "collapsed": false
   },
   "outputs": [
    {
     "data": {
      "text/plain": [
       "['Patient16_Ant.L.Foot_ImageColl_1_flip.png',\n",
       " 'Patient16_Ant.L.Foot_ImageColl_1_rotate.png',\n",
       " 'Patient16_Ant.L.Foot_ImageColl_1_shift.png',\n",
       " 'Patient16_Ant.L.Foot_ImageColl_2_flip.png',\n",
       " 'Patient16_Ant.L.Foot_ImageColl_2_rotate.png',\n",
       " 'Patient16_Ant.L.Foot_ImageColl_2_shift.png',\n",
       " 'Patient16_Ant.L.Leg_ImageColl_1_flip.png',\n",
       " 'Patient16_Ant.L.Leg_ImageColl_1_rotate.png',\n",
       " 'Patient16_Ant.L.Leg_ImageColl_1_shift.png',\n",
       " 'Patient16_Ant.L.Leg_ImageColl_2_flip.png',\n",
       " 'Patient16_Ant.L.Leg_ImageColl_2_rotate.png',\n",
       " 'Patient16_Ant.L.Leg_ImageColl_2_shift.png',\n",
       " 'Patient16_Ant.L.Leg_ImageColl_3_flip.png',\n",
       " 'Patient16_Ant.L.Leg_ImageColl_3_rotate.png',\n",
       " 'Patient16_Ant.L.Leg_ImageColl_3_shift.png',\n",
       " 'Patient16_Ant.L.Leg_ImageColl_4_flip.png',\n",
       " 'Patient16_Ant.L.Leg_ImageColl_4_rotate.png',\n",
       " 'Patient16_Ant.L.Leg_ImageColl_4_shift.png',\n",
       " 'Patient16_Ant.R.Foot_ImageColl_1_flip.png',\n",
       " 'Patient16_Ant.R.Foot_ImageColl_1_rotate.png',\n",
       " 'Patient16_Ant.R.Foot_ImageColl_1_shift.png',\n",
       " 'Patient16_Ant.R.Foot_ImageColl_2_flip.png',\n",
       " 'Patient16_Ant.R.Foot_ImageColl_2_rotate.png',\n",
       " 'Patient16_Ant.R.Foot_ImageColl_2_shift.png',\n",
       " 'Patient19_Ant.L.Foot_ImageColl_1_flip.png',\n",
       " 'Patient19_Ant.L.Foot_ImageColl_1_rotate.png',\n",
       " 'Patient19_Ant.L.Foot_ImageColl_1_shift.png',\n",
       " 'Patient19_Ant.L.Foot_ImageColl_2_flip.png',\n",
       " 'Patient19_Ant.L.Foot_ImageColl_2_rotate.png',\n",
       " 'Patient19_Ant.L.Foot_ImageColl_2_shift.png',\n",
       " 'Patient19_Ant.L.Foot_ImageColl_3_flip.png',\n",
       " 'Patient19_Ant.L.Foot_ImageColl_3_rotate.png',\n",
       " 'Patient19_Ant.L.Foot_ImageColl_3_shift.png',\n",
       " 'Patient19_Ant.L.Foot_ImageColl_4_flip.png',\n",
       " 'Patient19_Ant.L.Foot_ImageColl_4_rotate.png',\n",
       " 'Patient19_Ant.L.Foot_ImageColl_4_shift.png',\n",
       " 'Patient8_Ant.L.Foot_ImageColl_10_flip.png',\n",
       " 'Patient8_Ant.L.Foot_ImageColl_10_rotate.png',\n",
       " 'Patient8_Ant.L.Foot_ImageColl_10_shift.png',\n",
       " 'Patient8_Ant.L.Foot_ImageColl_1_flip.png',\n",
       " 'Patient8_Ant.L.Foot_ImageColl_1_rotate.png',\n",
       " 'Patient8_Ant.L.Foot_ImageColl_1_shift.png',\n",
       " 'Patient8_Ant.L.Foot_ImageColl_2_flip.png',\n",
       " 'Patient8_Ant.L.Foot_ImageColl_2_rotate.png',\n",
       " 'Patient8_Ant.L.Foot_ImageColl_2_shift.png',\n",
       " 'Patient8_Ant.L.Foot_ImageColl_3_flip.png',\n",
       " 'Patient8_Ant.L.Foot_ImageColl_3_rotate.png',\n",
       " 'Patient8_Ant.L.Foot_ImageColl_3_shift.png',\n",
       " 'Patient8_Ant.L.Foot_ImageColl_4_flip.png',\n",
       " 'Patient8_Ant.L.Foot_ImageColl_4_rotate.png',\n",
       " 'Patient8_Ant.L.Foot_ImageColl_4_shift.png',\n",
       " 'Patient8_Ant.L.Foot_ImageColl_5_flip.png',\n",
       " 'Patient8_Ant.L.Foot_ImageColl_5_rotate.png',\n",
       " 'Patient8_Ant.L.Foot_ImageColl_5_shift.png']"
      ]
     },
     "execution_count": 3,
     "metadata": {},
     "output_type": "execute_result"
    }
   ],
   "source": [
    "os.chdir('C:/Users/SpectralMD/Desktop/Aug_mask1234/')\n",
    "\n",
    "dirr = 'C:/Users/SpectralMD/Desktop/Aug_mask1234/'\n",
    "os.path.abspath('.')\n",
    "rootDir= '.'\n",
    "    \n",
    "#Get filename\n",
    "for dirName, subdirList, fileList in os.walk(rootDir, topdown=False):\n",
    "    file_names=[]\n",
    "    for fname in fileList:\n",
    "        file_names.append(fname)\n",
    "\n",
    "        \n",
    "file_names\n",
    "\n"
   ]
  },
  {
   "cell_type": "code",
   "execution_count": 4,
   "metadata": {
    "collapsed": true
   },
   "outputs": [],
   "source": [
    "os.chdir('C:/Users/SpectralMD/Desktop/')\n",
    "if not os.path.exists('Aug_mask_resize'):\n",
    "        os.makedirs('Aug_mask_resize')"
   ]
  },
  {
   "cell_type": "code",
   "execution_count": 5,
   "metadata": {
    "collapsed": false
   },
   "outputs": [],
   "source": [
    "for i in range(len(file_names)):\n",
    "    img = Image.open(dirr+file_names[i])\n",
    "    cover = resizeimage.resize_cover(img, [480, 360], validate=False)\n",
    "    os.chdir('C:/Users/SpectralMD/Desktop/Aug_mask_resize')\n",
    "    scipy.misc.imsave(file_names[i],cover)\n",
    "    \n"
   ]
  },
  {
   "cell_type": "code",
   "execution_count": 6,
   "metadata": {
    "collapsed": false
   },
   "outputs": [
    {
     "data": {
      "text/plain": [
       "(360L, 480L)"
      ]
     },
     "execution_count": 6,
     "metadata": {},
     "output_type": "execute_result"
    }
   ],
   "source": [
    "import numpy as np\n",
    "np.array(cover).shape"
   ]
  },
  {
   "cell_type": "code",
   "execution_count": 10,
   "metadata": {
    "collapsed": false
   },
   "outputs": [],
   "source": [
    "os.chdir('C:/Users/SpectralMD/Desktop/Aug_raw/')\n",
    "\n",
    "\n",
    "dirr = 'C:/Users/SpectralMD/Desktop/Aug_raw/'\n",
    "os.path.abspath('.')\n",
    "rootDir= '.'\n",
    "    \n",
    "#Get filename\n",
    "for dirName, subdirList, fileList in os.walk(rootDir, topdown=False):\n",
    "    file_names=[]\n",
    "    for fname in fileList:\n",
    "        file_names.append(fname)\n",
    "        \n"
   ]
  },
  {
   "cell_type": "code",
   "execution_count": 11,
   "metadata": {
    "collapsed": true
   },
   "outputs": [],
   "source": [
    "os.chdir('C:/Users/SpectralMD/Desktop/')\n",
    "if not os.path.exists('Aug_raw_resize'):\n",
    "        os.makedirs('Aug_raw_resize')"
   ]
  },
  {
   "cell_type": "code",
   "execution_count": 12,
   "metadata": {
    "collapsed": true
   },
   "outputs": [],
   "source": [
    "for i in range(len(file_names)):\n",
    "    img = Image.open(dirr+file_names[i])\n",
    "    cover = resizeimage.resize_cover(img, [480, 360,3], validate=False)\n",
    "    os.chdir('C:/Users/SpectralMD/Desktop/Aug_raw_resize')\n",
    "    scipy.misc.imsave(file_names[i],cover)"
   ]
  },
  {
   "cell_type": "code",
   "execution_count": 13,
   "metadata": {
    "collapsed": false
   },
   "outputs": [
    {
     "data": {
      "text/plain": [
       "(360L, 480L, 3L)"
      ]
     },
     "execution_count": 13,
     "metadata": {},
     "output_type": "execute_result"
    }
   ],
   "source": [
    "import numpy as np\n",
    "np.array(cover).shape"
   ]
  },
  {
   "cell_type": "code",
   "execution_count": null,
   "metadata": {
    "collapsed": true
   },
   "outputs": [],
   "source": []
  }
 ],
 "metadata": {
  "kernelspec": {
   "display_name": "Python 2",
   "language": "python",
   "name": "python2"
  },
  "language_info": {
   "codemirror_mode": {
    "name": "ipython",
    "version": 2
   },
   "file_extension": ".py",
   "mimetype": "text/x-python",
   "name": "python",
   "nbconvert_exporter": "python",
   "pygments_lexer": "ipython2",
   "version": "2.7.12"
  }
 },
 "nbformat": 4,
 "nbformat_minor": 0
}
